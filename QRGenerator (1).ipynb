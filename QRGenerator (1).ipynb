{
 "cells": [
  {
   "cell_type": "code",
   "execution_count": 1,
   "id": "0ea3a6bb-c84b-4c3a-b56d-66a83cfdfa30",
   "metadata": {},
   "outputs": [],
   "source": [
    "import qrcode\n",
    "\n",
    "qr=qrcode.QRCode(version=1,\n",
    "                 error_correction=qrcode.constants.ERROR_CORRECT_L,\n",
    "                 box_size=20,\n",
    "                 border=1)\n",
    "qr.add_data(\"https://github.com/savysachie?tab=repositories\")\n",
    "qr.make(fit=True)\n",
    "\n",
    "img=qr.make_image(fill_color=\"blue\",back_color=\"white\")\n",
    "img.save(\"my.png\")"
   ]
  },
  {
   "cell_type": "code",
   "execution_count": null,
   "id": "c26fed7e-ded2-44ea-98d6-7ddde8c66363",
   "metadata": {},
   "outputs": [],
   "source": []
  }
 ],
 "metadata": {
  "kernelspec": {
   "display_name": "Python 3 (ipykernel)",
   "language": "python",
   "name": "python3"
  },
  "language_info": {
   "codemirror_mode": {
    "name": "ipython",
    "version": 3
   },
   "file_extension": ".py",
   "mimetype": "text/x-python",
   "name": "python",
   "nbconvert_exporter": "python",
   "pygments_lexer": "ipython3",
   "version": "3.11.7"
  }
 },
 "nbformat": 4,
 "nbformat_minor": 5
}
